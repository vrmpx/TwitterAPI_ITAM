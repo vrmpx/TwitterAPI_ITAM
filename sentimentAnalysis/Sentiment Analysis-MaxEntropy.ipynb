{
 "metadata": {
  "name": "",
  "signature": "sha256:202c524a5962d1a3eac78361e334dfa351d2782edd133c1206a3994fae8940ce"
 },
 "nbformat": 3,
 "nbformat_minor": 0,
 "worksheets": [
  {
   "cells": [
    {
     "cell_type": "code",
     "collapsed": false,
     "input": [
      "# Fuente:\n",
      "# Facebook PyData\n",
      "# https://www.youtube.com/watch?v=y3ZTKFZ-1QQ\n",
      "# Proyecto SENTIMENT140.  Datos de entrenamiento y sugerencia de uso de M\u00e1xima Entropia.\n",
      "\n",
      "# carga de liber\u00edas.\n",
      "\n",
      "import numpy as np\n",
      "import pandas as pd\n",
      "import sklearn.cross_validation\n",
      "import sklearn.feature_extraction.text\n",
      "import sklearn.metrics\n",
      "import sklearn.linear_model"
     ],
     "language": "python",
     "metadata": {},
     "outputs": [],
     "prompt_number": 2
    },
    {
     "cell_type": "code",
     "collapsed": false,
     "input": [
      "# renombrando las columnas.\n",
      "names = ['label','id','fecha','query','twitero','text']\n",
      "# Leyendo tweets de entrenamiento. \n",
      "data = pd.read_csv(\"sentiment/train.csv\", names=names,encoding=\"ISO-8859-1\")"
     ],
     "language": "python",
     "metadata": {},
     "outputs": [],
     "prompt_number": 3
    },
    {
     "cell_type": "code",
     "collapsed": false,
     "input": [
      "# s\u00f3lo nos queamos con el texto y la polarizaci\u00f3n. 0 negativo, 2 neural y 4 positivo\n",
      "data = data[[5,0]]"
     ],
     "language": "python",
     "metadata": {},
     "outputs": [],
     "prompt_number": 4
    },
    {
     "cell_type": "code",
     "collapsed": false,
     "input": [
      "data.head()"
     ],
     "language": "python",
     "metadata": {},
     "outputs": [
      {
       "html": [
        "<div style=\"max-height:1000px;max-width:1500px;overflow:auto;\">\n",
        "<table border=\"1\" class=\"dataframe\">\n",
        "  <thead>\n",
        "    <tr style=\"text-align: right;\">\n",
        "      <th></th>\n",
        "      <th>text</th>\n",
        "      <th>label</th>\n",
        "    </tr>\n",
        "  </thead>\n",
        "  <tbody>\n",
        "    <tr>\n",
        "      <th>0</th>\n",
        "      <td> @switchfoot http://twitpic.com/2y1zl - Awww, t...</td>\n",
        "      <td> 0</td>\n",
        "    </tr>\n",
        "    <tr>\n",
        "      <th>1</th>\n",
        "      <td> is upset that he can't update his Facebook by ...</td>\n",
        "      <td> 0</td>\n",
        "    </tr>\n",
        "    <tr>\n",
        "      <th>2</th>\n",
        "      <td> @Kenichan I dived many times for the ball. Man...</td>\n",
        "      <td> 0</td>\n",
        "    </tr>\n",
        "    <tr>\n",
        "      <th>3</th>\n",
        "      <td>   my whole body feels itchy and like its on fire </td>\n",
        "      <td> 0</td>\n",
        "    </tr>\n",
        "    <tr>\n",
        "      <th>4</th>\n",
        "      <td> @nationwideclass no, it's not behaving at all....</td>\n",
        "      <td> 0</td>\n",
        "    </tr>\n",
        "  </tbody>\n",
        "</table>\n",
        "</div>"
       ],
       "metadata": {},
       "output_type": "pyout",
       "prompt_number": 5,
       "text": [
        "                                                text  label\n",
        "0  @switchfoot http://twitpic.com/2y1zl - Awww, t...      0\n",
        "1  is upset that he can't update his Facebook by ...      0\n",
        "2  @Kenichan I dived many times for the ball. Man...      0\n",
        "3    my whole body feels itchy and like its on fire       0\n",
        "4  @nationwideclass no, it's not behaving at all....      0"
       ]
      }
     ],
     "prompt_number": 5
    },
    {
     "cell_type": "code",
     "collapsed": false,
     "input": [
      "data.shape"
     ],
     "language": "python",
     "metadata": {},
     "outputs": [
      {
       "metadata": {},
       "output_type": "pyout",
       "prompt_number": 6,
       "text": [
        "(1600000, 2)"
       ]
      }
     ],
     "prompt_number": 6
    },
    {
     "cell_type": "code",
     "collapsed": false,
     "input": [
      "names = ['text','label']\n",
      "\n",
      "#Split en entrenamiento y prueba.\n",
      "train, test= sklearn.cross_validation.train_test_split(data, train_size=0.7)\n",
      "train_data, test_data = pd.DataFrame(train, columns=names), pd.DataFrame(test, columns=names)"
     ],
     "language": "python",
     "metadata": {},
     "outputs": [],
     "prompt_number": 7
    },
    {
     "cell_type": "code",
     "collapsed": false,
     "input": [
      "# Conviertiendo las palabras en datos binarios. (Vectorizaci\u00f3n)\n",
      "vectorizer = sklearn.feature_extraction.text.CountVectorizer(stop_words = 'english')\n",
      "\n",
      "train_matrix = vectorizer.fit_transform(train_data['text'])\n",
      "test_matrix = vectorizer.transform(test_data['text'])\n"
     ],
     "language": "python",
     "metadata": {},
     "outputs": [
      {
       "metadata": {},
       "output_type": "pyout",
       "prompt_number": 8,
       "text": [
        "\"\\nvectorizer = sklearn.feature_extraction.text.CountVectorizer(\\n   analyzer= 'char', ngram_range=(2,3), min_df=0, max_df=0.1, binary=True)\\n\""
       ]
      }
     ],
     "prompt_number": 8
    },
    {
     "cell_type": "code",
     "collapsed": false,
     "input": [
      "# subset\n",
      "positive_cases_train = (train_data['label'] == 4)\n",
      "positive_cases_test = (test_data['label'] == 4)\n",
      "\n",
      "#Entrenando modelo.\n",
      "\n",
      "classifier = sklearn.linear_model.LogisticRegression()\n",
      "classifier.fit(train_matrix, positive_cases_train)"
     ],
     "language": "python",
     "metadata": {},
     "outputs": [
      {
       "metadata": {},
       "output_type": "pyout",
       "prompt_number": 11,
       "text": [
        "LogisticRegression(C=1.0, class_weight=None, dual=False, fit_intercept=True,\n",
        "          intercept_scaling=1, penalty='l2', random_state=None, tol=0.0001)"
       ]
      }
     ],
     "prompt_number": 11
    },
    {
     "cell_type": "code",
     "collapsed": false,
     "input": [
      "# Predicci\u00f3n\n",
      "\n",
      "predicted_sentiment = classifier.predict(test_matrix)\n",
      "predicted_probs = classifier.predict_proba(test_matrix)"
     ],
     "language": "python",
     "metadata": {},
     "outputs": [],
     "prompt_number": 12
    },
    {
     "cell_type": "code",
     "collapsed": false,
     "input": [
      "#Diagn\u00f3stico.\n",
      "\n",
      "accuracy = classifier.score(test_matrix,positive_cases_test)\n",
      "precision, recall, f1, _ = sklearn.metrics.precision_recall_fscore_support(\n",
      "    positive_cases_test, predicted_sentiment)\n",
      "\n",
      "print (\" \")\n",
      "print (\"Accuracy = \", accuracy)\n",
      "print (\"Precision = \", precision)\n",
      "print (\"Recall = \", recall)\n",
      "print(\"F1 Score = \", f1)"
     ],
     "language": "python",
     "metadata": {},
     "outputs": [
      {
       "output_type": "stream",
       "stream": "stdout",
       "text": [
        " \n",
        "('Accuracy = ', 0.77956250000000005)\n",
        "('Precision = ', array([ 0.78946664,  0.77032181]))\n",
        "('Recall = ', array([ 0.76230209,  0.79681414]))\n",
        "('F1 Score = ', array([ 0.7756466 ,  0.78334405]))\n"
       ]
      }
     ],
     "prompt_number": 13
    }
   ],
   "metadata": {}
  }
 ]
}